{
 "cells": [
  {
   "cell_type": "markdown",
   "metadata": {},
   "source": [
    "# Fiftyville\n",
    "This noteboook aims at solving the fiftyville problem using sqlite3 queries. We have a database with information of Fiftyville - a city where there was a crime. We were given the information that the crime occurred on July 28 of 2021."
   ]
  },
  {
   "cell_type": "code",
   "execution_count": 23,
   "metadata": {},
   "outputs": [],
   "source": [
    "import sqlite3"
   ]
  },
  {
   "cell_type": "markdown",
   "metadata": {},
   "source": [
    "## Get the table"
   ]
  },
  {
   "cell_type": "code",
   "execution_count": 24,
   "metadata": {},
   "outputs": [],
   "source": [
    "def get_table():\n",
    "    conn = sqlite3.connect('fiftyville.db')\n",
    "    c = conn.cursor()\n",
    "    c.execute('SELECT name FROM sqlite_master WHERE type=\"table\"')\n",
    "    return c\n"
   ]
  },
  {
   "cell_type": "code",
   "execution_count": 25,
   "metadata": {},
   "outputs": [],
   "source": [
    "cursor = get_table()"
   ]
  },
  {
   "cell_type": "markdown",
   "metadata": {},
   "source": [
    "## Tables"
   ]
  },
  {
   "cell_type": "code",
   "execution_count": 26,
   "metadata": {},
   "outputs": [],
   "source": [
    "# Query to get all table names\n",
    "cursor.execute(\"SELECT name FROM sqlite_master WHERE type='table';\")\n",
    "tables = cursor.fetchall()\n",
    "\n",
    "with open('table_fields.txt', 'w') as file:\n",
    "    # Loop through all tables and write their fields to the file\n",
    "    for table in tables:\n",
    "        table_name = table[0]\n",
    "        file.write(f\"Table: {table_name}\\n\")\n",
    "        cursor.execute(f\"PRAGMA table_info({table_name});\")\n",
    "        columns = cursor.fetchall()\n",
    "        for column in columns:\n",
    "            file.write(f\"  Column: {column[1]}, Type: {column[2]}\\n\")\n",
    "        file.write(\"\\n\")"
   ]
  },
  {
   "cell_type": "markdown",
   "metadata": {},
   "source": [
    "## Crime scene reports\n",
    "We were given the information that the crime occurred on June 28 2021 in Humphrey Street. We are going to list all crime scene reports on that day."
   ]
  },
  {
   "cell_type": "code",
   "execution_count": 27,
   "metadata": {},
   "outputs": [
    {
     "name": "stdout",
     "output_type": "stream",
     "text": [
      "('Theft of the CS50 duck took place at 10:15am at the Humphrey Street bakery. Interviews were conducted today with three witnesses who were present at the time – each of their interview transcripts mentions the bakery.',)\n",
      "('Littering took place at 16:36. No known witnesses.',)\n"
     ]
    }
   ],
   "source": [
    "cursor.execute(\"SELECT description FROM crime_scene_reports WHERE day = 28 AND month = 7 AND year = 2021 AND street = 'Humphrey Street';\")\n",
    "reports = cursor.fetchall()\n",
    "for report in reports:\n",
    "    print(report)"
   ]
  },
  {
   "cell_type": "markdown",
   "metadata": {},
   "source": [
    "Now we knwo the time of the theft - `10:15`. We are going to collect more information from the interview transcripts, particularly the ones with `bakery` on it."
   ]
  },
  {
   "cell_type": "code",
   "execution_count": 28,
   "metadata": {},
   "outputs": [
    {
     "name": "stdout",
     "output_type": "stream",
     "text": [
      "('Sometime within ten minutes of the theft, I saw the thief get into a car in the bakery parking lot and drive away. If you have security footage from the bakery parking lot, you might want to look for cars that left the parking lot in that time frame.',)\n",
      "(\"I don't know the thief's name, but it was someone I recognized. Earlier this morning, before I arrived at Emma's bakery, I was walking by the ATM on Leggett Street and saw the thief there withdrawing some money.\",)\n",
      "('As the thief was leaving the bakery, they called someone who talked to them for less than a minute. In the call, I heard the thief say that they were planning to take the earliest flight out of Fiftyville tomorrow. The thief then asked the person on the other end of the phone to purchase the flight ticket.',)\n"
     ]
    }
   ],
   "source": [
    "cursor.execute(\"SELECT transcript FROM interviews WHERE day = 28 AND month = 7 AND year = 2021 AND transcript LIKE '%bakery%'\")\n",
    "transcripts = cursor.fetchall()\n",
    "for item in transcripts:\n",
    "    print(item)"
   ]
  },
  {
   "cell_type": "markdown",
   "metadata": {},
   "source": [
    "Now we know 3 more pieces of information:\n",
    "* The theft's car is on the `bakery_security_logs` as an exit between __10:15__ and __10:25__.\n",
    "* In the `phone_calls` table the thief's number is registered as the caller, the duration of the phone call is less than __60 seconds__ and it was on the theft's day.\n",
    "* There was a withdrawal transaction in the ATM in __Leggett Street__ earlier that day whose account number matches the thief's account number.\n",
    "* The accomplice bought a ticket for the earliest flight out of Fiftyville for the next day."
   ]
  },
  {
   "cell_type": "code",
   "execution_count": 29,
   "metadata": {},
   "outputs": [
    {
     "name": "stdout",
     "output_type": "stream",
     "text": [
      "Caller: Bruce, Receiver: Robin, Call ID: 233\n",
      "Caller: Diana, Receiver: Philip, Call ID: 255\n"
     ]
    }
   ],
   "source": [
    "cursor.execute(\"SELECT caller_people.name AS caller_name, receiver_people.name AS receiver_name, phone_calls.id FROM \\\n",
    "               phone_calls INNER JOIN \\\n",
    "               people AS caller_people ON phone_calls.caller = caller_people.phone_number INNER JOIN \\\n",
    "               people AS receiver_people ON phone_calls.receiver = receiver_people.phone_number INNER JOIN \\\n",
    "               bakery_security_logs ON bakery_security_logs.license_plate = caller_people.license_plate INNER JOIN \\\n",
    "               bank_accounts ON bank_accounts.person_id = caller_people.id INNER JOIN \\\n",
    "               atm_transactions ON atm_transactions.account_number = bank_accounts.account_number WHERE \\\n",
    "               bakery_security_logs.activity = 'exit' AND bakery_security_logs.day = 28 AND bakery_security_logs.month = 7 AND bakery_security_logs.year = 2021 AND \\\n",
    "               bakery_security_logs.hour = 10 AND bakery_security_logs.minute BETWEEN 15 AND 25 AND \\\n",
    "               phone_calls.duration < 60 AND phone_calls.day = 28 AND phone_calls.month = 7 AND phone_calls.year = 2021 AND \\\n",
    "               atm_transactions.atm_location = 'Leggett Street' AND atm_transactions.transaction_type = 'withdraw' AND \\\n",
    "               atm_transactions.day = 28 AND atm_transactions.month = 7 AND atm_transactions.year = 2021;\\\n",
    "               \")\n",
    "\n",
    "calls = cursor.fetchall()\n",
    "for call in calls:\n",
    "    print(f\"Caller: {call[0]}, Receiver: {call[1]}, Call ID: {call[2]}\")\n",
    "\n"
   ]
  },
  {
   "cell_type": "markdown",
   "metadata": {},
   "source": [
    "Now we have 2 possible thief-accomplice options. We will get information about the earliest flight out of Fiftyville on July 29th 2021 and who took that flight."
   ]
  },
  {
   "cell_type": "code",
   "execution_count": 30,
   "metadata": {},
   "outputs": [
    {
     "name": "stdout",
     "output_type": "stream",
     "text": [
      "(18, 8, 6, 2021, 7, 29, 16, 0)\n",
      "(23, 8, 11, 2021, 7, 29, 12, 15)\n",
      "(36, 8, 4, 2021, 7, 29, 8, 20)\n",
      "(43, 8, 1, 2021, 7, 29, 9, 30)\n",
      "(53, 8, 9, 2021, 7, 29, 15, 20)\n"
     ]
    }
   ],
   "source": [
    "cursor.execute(\"SELECT * FROM flights WHERE flights.day = 29 AND flights.month = 7 AND flights.year = 2021;\")\n",
    "flights = cursor.fetchall()\n",
    "for flight in flights:\n",
    "    print(flight)"
   ]
  },
  {
   "cell_type": "markdown",
   "metadata": {},
   "source": [
    "The earliest flight in this list has `id = 36`. We will see which city the flight heads to."
   ]
  },
  {
   "cell_type": "code",
   "execution_count": 31,
   "metadata": {},
   "outputs": [
    {
     "name": "stdout",
     "output_type": "stream",
     "text": [
      "('New York City',)\n"
     ]
    }
   ],
   "source": [
    "cursor.execute(\"SELECT airports.city FROM airports INNER JOIN flights ON flights.destination_airport_id = airports.id \\\n",
    "               WHERE flights.id = 36; \")\n",
    "destinations = cursor.fetchall()\n",
    "for d in destinations:\n",
    "    print(d)"
   ]
  },
  {
   "cell_type": "code",
   "execution_count": 32,
   "metadata": {},
   "outputs": [
    {
     "name": "stdout",
     "output_type": "stream",
     "text": [
      "('Bruce',)\n"
     ]
    }
   ],
   "source": [
    "cursor.execute(\"SELECT people.name FROM passengers INNER JOIN people ON passengers.passport_number = people.passport_number WHERE \\\n",
    "               passengers.flight_id = 36 AND (people.name = 'Bruce' OR people.name = 'Diana');\")\n",
    "passengers = cursor.fetchall()\n",
    "for passenger in passengers:\n",
    "    print(passenger)"
   ]
  },
  {
   "cell_type": "markdown",
   "metadata": {},
   "source": [
    "Given that only Bruce escaped from Fiftyville, we conclude that:\n",
    "* `Bruce` is the thief.\n",
    "* `Robin` is the accomplice.\n",
    "* The thief escaped to `New York City`.\n"
   ]
  }
 ],
 "metadata": {
  "kernelspec": {
   "display_name": "data_env",
   "language": "python",
   "name": "python3"
  },
  "language_info": {
   "codemirror_mode": {
    "name": "ipython",
    "version": 3
   },
   "file_extension": ".py",
   "mimetype": "text/x-python",
   "name": "python",
   "nbconvert_exporter": "python",
   "pygments_lexer": "ipython3",
   "version": "3.9.6"
  }
 },
 "nbformat": 4,
 "nbformat_minor": 2
}
